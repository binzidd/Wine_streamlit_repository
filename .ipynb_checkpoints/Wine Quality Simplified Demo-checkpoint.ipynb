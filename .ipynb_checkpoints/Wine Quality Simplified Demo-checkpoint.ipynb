{
 "cells": [
  {
   "cell_type": "markdown",
   "id": "4124035c",
   "metadata": {
    "tags": []
   },
   "source": [
    "# Wine Tasting with ML\n",
    "<img style=\"float:left; max-height:250px\" src=\"Wine.png\">"
   ]
  },
  {
   "cell_type": "markdown",
   "id": "b1bcc05f-5b94-43a1-bfa4-95a3dd862fa8",
   "metadata": {
    "tags": []
   },
   "source": [
    "### Import Packages"
   ]
  },
  {
   "cell_type": "code",
   "execution_count": null,
   "id": "7690f6d5-e29d-40a3-b8d8-d35b536836fd",
   "metadata": {},
   "outputs": [],
   "source": [
    "######## Install packages\n",
    "#!pip install dtreeviz\n",
    "\n",
    "######## Other libraries\n",
    "# from sklearn.tree import DecisionTreeRegressor\n",
    "# from sklearn.ensemble import RandomForestRegressor\n",
    "\n",
    "# from sklearn.metrics import mean_absolute_error, log_loss, f1_score, roc_auc_score, RocCurveDisplay, confusion_matrix, ConfusionMatrixDisplay\n",
    "# from sklearn import tree\n",
    "# from string import ascii_letters\n",
    "#import graphviz"
   ]
  },
  {
   "cell_type": "code",
   "execution_count": 1,
   "id": "23ad8839",
   "metadata": {},
   "outputs": [],
   "source": [
    "import pandas as pd\n",
    "import numpy as np\n",
    "\n",
    "from sklearn.model_selection import train_test_split\n",
    "from sklearn.tree import DecisionTreeClassifier\n",
    "from sklearn.ensemble import RandomForestClassifier\n",
    "from sklearn.metrics import accuracy_score, f1_score, RocCurveDisplay, confusion_matrix, ConfusionMatrixDisplay\n",
    "\n",
    "from matplotlib import pyplot as plt\n",
    "import dtreeviz\n",
    "import seaborn as sns"
   ]
  },
  {
   "cell_type": "markdown",
   "id": "366466a7",
   "metadata": {
    "tags": []
   },
   "source": [
    "### Prepare Dataset"
   ]
  },
  {
   "cell_type": "code",
   "execution_count": 5,
   "id": "79eaefba-e7b5-4796-ba76-45dad7d1481b",
   "metadata": {},
   "outputs": [],
   "source": [
    "WINE_SCORE_LIMIT = 4\n",
    "wine=pd.read_csv('winequality-red.csv', sep=';')\n",
    "wine['quality'] = np.where(wine['quality']>=WINE_SCORE_LIMIT , 1,0) # 1 stands for decent wine,0 - cooking wine\n",
    "\n",
    "Drop_cols=['volatile acidity','free sulfur dioxide','pH','sulphates','density']\n",
    "wine=wine.drop(Drop_cols, axis=1)\n",
    "\n",
    "wine=wine.rename(columns={\"fixed acidity\": \"Sourness\", \"citric acid\": \"Fruitiness\",\n",
    "                          \"residual sugar\":\"Sweetness\",\"chlorides\":\"Saltiness\",\"total sulfur dioxide\":\"Preservatives\",\n",
    "                         \"alcohol\":\"Alcohol%\",\"quality\":\"Quality\"})\n",
    "wine.to_csv('winequality-red-simp.csv', sep = ';', index = False)\n"
   ]
  },
  {
   "cell_type": "markdown",
   "id": "f49ad126-4df4-48c8-a2da-6144aa6a9a46",
   "metadata": {
    "tags": []
   },
   "source": [
    "### Sample Data and Feature Stats"
   ]
  },
  {
   "cell_type": "code",
   "execution_count": null,
   "id": "f88f37b4-a76c-4c2b-bb43-81a4c3c5dca6",
   "metadata": {},
   "outputs": [],
   "source": [
    "wine.head(5)"
   ]
  },
  {
   "cell_type": "code",
   "execution_count": null,
   "id": "af2db89d",
   "metadata": {},
   "outputs": [],
   "source": [
    "wine.describe()"
   ]
  },
  {
   "cell_type": "markdown",
   "id": "c0671554-1e13-4a27-967b-279432985c7f",
   "metadata": {
    "tags": []
   },
   "source": [
    "### Start thinking about drivers/features"
   ]
  },
  {
   "cell_type": "markdown",
   "id": "2fc5e087-b5d9-45db-b840-d7443d4ca588",
   "metadata": {},
   "source": [
    "##### Hypotheses\n",
    "<font color='blue'> Start picking `top features` and `rank` them  </font>"
   ]
  },
  {
   "cell_type": "markdown",
   "id": "53bf69e8-2081-477a-baf5-17d53aa76d77",
   "metadata": {
    "tags": []
   },
   "source": [
    "### Correlation matrix\n"
   ]
  },
  {
   "cell_type": "code",
   "execution_count": 6,
   "id": "5daf3c72-4324-4378-be2b-287feffc6aac",
   "metadata": {},
   "outputs": [
    {
     "data": {
      "text/plain": [
       "<Axes: >"
      ]
     },
     "execution_count": 6,
     "metadata": {},
     "output_type": "execute_result"
    },
    {
     "data": {
      "image/png": "[encoded data removed]",
      "text/plain": [
       "<Figure size 700x400 with 2 Axes>"
      ]
     },
     "metadata": {},
     "output_type": "display_data"
    }
   ],
   "source": [
    "# Compute the correlation matrix\n",
    "corr = wine.corr()\n",
    "\n",
    "# Generate a mask for the upper triangle\n",
    "mask = np.triu(np.ones_like(corr, dtype=bool))\n",
    "\n",
    "# Generate a custom diverging colormap\n",
    "cmap = sns.diverging_palette(145, 20, as_cmap=True)\n",
    "\n",
    "# Draw the heatmap with the mask and correct aspect ratio\n",
    "\n",
    "# Set up the matplotlib figure\n",
    "f, ax = plt.subplots(figsize=(7, 4))\n",
    "\n",
    "sns.heatmap(corr, mask=mask, cmap=cmap, vmax=.3, center=0,\n",
    "            square=True, linewidths=.5, cbar_kws={\"shrink\": .5})"
   ]
  },
  {
   "cell_type": "code",
   "execution_count": null,
   "id": "fed407b6-9d8d-4ea6-a861-d802e38aa8aa",
   "metadata": {},
   "outputs": [],
   "source": [
    "wine.describe()"
   ]
  },
  {
   "cell_type": "markdown",
   "id": "0588d020-673e-477d-a83f-d54bdeb96c7a",
   "metadata": {
    "tags": []
   },
   "source": [
    "## Model Build"
   ]
  },
  {
   "cell_type": "markdown",
   "id": "2b5010cb-2a92-4a4b-b3a7-67798ace38dc",
   "metadata": {
    "tags": []
   },
   "source": [
    "### Model 1 - Single Feature, Small Tree"
   ]
  },
  {
   "cell_type": "code",
   "execution_count": 7,
   "id": "ad2d045c-fb54-4fb0-8ede-e87f801fb1d9",
   "metadata": {},
   "outputs": [],
   "source": [
    "## Set random seed\n",
    "rand_seed=123"
   ]
  },
  {
   "cell_type": "code",
   "execution_count": 8,
   "id": "d87265ca",
   "metadata": {},
   "outputs": [
    {
     "name": "stdout",
     "output_type": "stream",
     "text": [
      "[1 0 0 1 0 1 1 0 1 1 0 1 1 1 1 1 1 1 0 0 0 1 1 1 0 1 1 1 1 0 0 1 0 0 1 0 1\n",
      " 0 0 0 0 1 1 0 0 0 1 0 1 1 1 1 0 0 0 1 0 0 0 0 0 0 0 0 1 1 1 0 1 1 1 0 0 1\n",
      " 1 1 0 0 1 1 0 0 1 1 0 1 0 0 1 0 0 0 1 1 1 1 1 1 1 0 1 1 1 1 1 0 0 1 1 0 1\n",
      " 0 0 1 1 1 1 0 0 1 0 1 1 0 0 0 1 1 1 0 0 1 1 1 1 0 0 0 1 1 0 1 0 1 1 0 1 0\n",
      " 0 1 0 1 1 1 1 1 1 0 0 1 1 1 1 1 0 0 1 0 1 0 1 1 0 1 1 1 1 1 0 0 1 1 1 1 1\n",
      " 1 1 0 0 1 1 1 1 1 1 1 1 1 0 1 1 1 0 1 0 1 0 1 1 0 0 0 1 1 1 1 1 1 0 1 1 1\n",
      " 0 1 1 1 1 0 1 0 1 1 0 1 1 1 1 1 1 0 0 0 1 0 1 0 0 1 0 1 1 1 1 0 1 1 0 0 0\n",
      " 0 0 0 1 1 1 1 0 1 1 1 1 1 1 1 1 0 0 1 1 1 1 1 0 0 0 0 1 1 0 1 1 0 1 1 1 0\n",
      " 1 1 1 0 0 0 0 1 0 0 1 0 1 1 0 0 1 1 0 0 0 1 0 1 1 0 1 0 0 0 1 1 1 0 1 0 1\n",
      " 1 0 0 0 1 1 0 0 1 1 0 1 0 0 1 0 1 0 0 0 1 0 1 1 0 0 1 1 1 0 1 0 1 1 0 0 0\n",
      " 1 0 1 0 1 1 1 0 0 1 1 1 1 1 1 0 1 0 1 0 1 0 0 0 1 1 0 1 0 0]\n",
      "Model 1 Accuracy= 65.5 %\n"
     ]
    }
   ],
   "source": [
    "## Select Features\n",
    "y=wine['Quality']\n",
    "features=[\n",
    "    'Sourness',\n",
    "    'Fruitiness',\n",
    "    'Sweetness'\n",
    "]\n",
    "x=wine[features]\n",
    "\n",
    "## Split data\n",
    "train_x, val_x, train_y, val_y = train_test_split(x, y, random_state = rand_seed)\n",
    "\n",
    "## Train and fit model\n",
    "winemodel1 = DecisionTreeClassifier(random_state=rand_seed, max_depth=5)\n",
    "winemodel1.fit(train_x, train_y)\n",
    "val_predictions1=winemodel1.predict(val_x)\n",
    "\n",
    "print(val_predictions1)\n",
    "\n",
    "model1_acc=round(accuracy_score(val_y, val_predictions1)*100,2)\n",
    "model1_f1=round(f1_score(val_y, val_predictions1)*100,2)\n",
    "\n",
    "print('Model 1 Accuracy=',model1_acc,'%')"
   ]
  },
  {
   "cell_type": "code",
   "execution_count": null,
   "id": "f0d3f08d-cc11-4b4b-9811-39f21d5e54b3",
   "metadata": {},
   "outputs": [],
   "source": [
    "viz = dtreeviz.model(winemodel1,\n",
    "            train_x,\n",
    "            train_y,\n",
    "            feature_names = train_x.columns,\n",
    "            target_name = 'Wine categories',\n",
    "            class_names = ['Goon de Dorm', 'FS Cuvee'])\n",
    "viz.view()"
   ]
  },
  {
   "cell_type": "markdown",
   "id": "712e27b1",
   "metadata": {
    "tags": []
   },
   "source": [
    "### Model 2 - Selected Features; Bigger Tree"
   ]
  },
  {
   "cell_type": "code",
   "execution_count": null,
   "id": "c29dcbee-ed19-4cc4-8626-5831533eaea8",
   "metadata": {},
   "outputs": [],
   "source": [
    "## Select Features\n",
    "y=wine['Quality']\n",
    "features=[\n",
    "    # 'Sourness',\n",
    "    # 'Fruitiness',\n",
    "     'Sweetness',\n",
    "    # 'Saltiness',\n",
    "    'Preservatives',\n",
    "     'Alcohol%'\n",
    "]\n",
    "x=wine[features]\n",
    "\n",
    "## Split data\n",
    "train_x, val_x, train_y, val_y = train_test_split(x, y, random_state = rand_seed)\n",
    "\n",
    "## Train and fit model\n",
    "winemodel2 = DecisionTreeClassifier(random_state=rand_seed, max_depth=5)\n",
    "winemodel2.fit(train_x, train_y)\n",
    "val_predictions2=winemodel2.predict(val_x)\n",
    "\n",
    "model2_acc=round(accuracy_score(val_y, val_predictions2)*100,2)\n",
    "model2_f1=round(f1_score(val_y, val_predictions2)*100,2)\n",
    "\n",
    "print('Model 1 Accuracy=',model1_acc,'%')\n",
    "print('Model 2 Accuracy=',model2_acc,'%')"
   ]
  },
  {
   "cell_type": "code",
   "execution_count": null,
   "id": "1f72e960-afdf-4569-8499-793cf9a932fd",
   "metadata": {},
   "outputs": [],
   "source": [
    "viz = dtreeviz.model(winemodel2,\n",
    "            train_x,\n",
    "            train_y,\n",
    "            feature_names = train_x.columns,\n",
    "            target_name = 'Wine categories',\n",
    "            class_names = ['Goon de Dorm', 'FS Cuvee'])\n",
    "viz.view()"
   ]
  },
  {
   "cell_type": "markdown",
   "id": "aedb093b-eb73-424c-a30f-49e11ff6dc7b",
   "metadata": {
    "tags": []
   },
   "source": [
    "### <font color='Green'> What does the prediction look like? </font>"
   ]
  },
  {
   "cell_type": "code",
   "execution_count": null,
   "id": "f2536b13-db00-4b06-bff2-a1e1ae4b5967",
   "metadata": {},
   "outputs": [],
   "source": [
    "actual_output=pd.concat((val_x,val_y,\n",
    "                        pd.DataFrame(val_predictions2,index = val_x.index.copy(),columns=['Predicted']),\n",
    "                        pd.DataFrame(winemodel2.predict_proba(val_x),index = val_x.index.copy(),columns=['a','Score']).drop(['a'],axis=1)\n",
    "                        ),axis=1)\n",
    "\n",
    "actual_output['Quality'] = np.where(actual_output['Quality']==1 , '1|🍷','0|💩') \n",
    "actual_output['Predicted'] = np.where(actual_output['Predicted']==1 , '1|🍷','0|💩') \n",
    "actual_output['Prediction Correct?']= np.where(actual_output['Quality']==actual_output['Predicted'],\"✔️\",\"❌\")\n",
    "\n",
    "\n",
    "actual_output= actual_output[features+['Score', 'Predicted','Quality','Prediction Correct?']]\n",
    "\n",
    "actual_output.head(60)"
   ]
  },
  {
   "cell_type": "markdown",
   "id": "0354a2d8",
   "metadata": {
    "tags": []
   },
   "source": [
    "### Model 3 - Every Feature"
   ]
  },
  {
   "cell_type": "code",
   "execution_count": null,
   "id": "41f2de5e",
   "metadata": {},
   "outputs": [],
   "source": [
    "# Run every feature through\n",
    "y2=wine['Quality']\n",
    "x2=wine.drop(['Quality'],axis=1)\n",
    "\n",
    "train_x2, val_x2, train_y2, val_y2 = train_test_split(x2, .\n",
    "                                                      \u0010, random_state = rand_seed)\n",
    "\n",
    "winemodel3 = DecisionTreeClassifier(random_state=rand_seed, max_depth = 10)\n",
    "winemodel3.fit(train_x2, train_y2)\n",
    "\n",
    "val_predictions3=winemodel3.predict(val_x2)\n",
    "\n",
    "model3_acc=round(accuracy_score(val_y2, val_predictions3)*100,2)\n",
    "model3_f1=round(f1_score(val_y2, val_predictions3)*100,2)\n",
    "\n",
    "print('Model 1 Accuracy=',model1_acc,'%')\n",
    "print('Model 2 Accuracy=',model2_acc,'%')\n",
    "print('Model 3 Accuracy=',model3_acc,'%')"
   ]
  },
  {
   "cell_type": "markdown",
   "id": "6b47612a-18d6-47b8-998d-619ed1f2064a",
   "metadata": {
    "tags": []
   },
   "source": [
    "#### Big Tree..... Keep Scrolling"
   ]
  },
  {
   "cell_type": "code",
   "execution_count": null,
   "id": "a749a169",
   "metadata": {},
   "outputs": [],
   "source": [
    "# Run every feature through random tree\n",
    "#n_estimators is the number of trees in the forest!\n",
    "winemodel4 = RandomForestClassifier(random_state=rand_seed, n_estimators = 250) \n",
    "winemodel4.fit(train_x2, train_y2)\n",
    "\n",
    "winemodel4.predict(val_x2)\n",
    "\n",
    "val_predictions4=winemodel4.predict(val_x2)\n",
    "\n",
    "model4_acc=round(accuracy_score(val_y2, val_predictions4)*100,2)\n",
    "model4_f1=round(f1_score(val_y2, val_predictions4)*100,2)\n",
    "\n",
    "print('Model 1 Accuracy=',model1_acc,'%')\n",
    "print('Model 2 Accuracy=',model2_acc,'%')\n",
    "print('Model 3 Accuracy=',model3_acc,'%')\n",
    "print('Model 4 Accuracy=',model4_acc,'%')"
   ]
  },
  {
   "cell_type": "markdown",
   "id": "ce95ac6b-1f9f-44da-860f-eb441828e19d",
   "metadata": {},
   "source": [
    "### <font color ='blue'>Audience Participation</font>"
   ]
  },
  {
   "cell_type": "markdown",
   "id": "775173e4-043c-40e1-8585-65e6960546cd",
   "metadata": {},
   "source": [
    "Quite a significant improvement of accuracy of our model\n",
    "We can try optimising the model by <br>\n",
    "* `Feature engineer` existing ones - can you think of an example?\n",
    "* Bringing `new features`: for example region/coordinates, colour, grape variety\n",
    "* `Tuning` the parameters of the model (called hyperparamaters in technical parlance) - the number and depth of trees, split rules etc\n",
    "* Call in `experts`\n",
    "\n",
    "\n"
   ]
  },
  {
   "cell_type": "markdown",
   "id": "cf5a7a97-fe32-4514-ba03-5cb7d8d944e0",
   "metadata": {
    "tags": []
   },
   "source": [
    "### How do the models compare? "
   ]
  },
  {
   "cell_type": "code",
   "execution_count": null,
   "id": "9ed4aecc-69ab-48d4-bf59-4213a458c208",
   "metadata": {},
   "outputs": [],
   "source": [
    "## Accuracy vs F1\n",
    "\n",
    "AccVsF1=pd.DataFrame(\n",
    "    [\n",
    "        ['No Model','Blind Guess/Coin Toss',50,0],\n",
    "        ['Model 1','Single Feature, Small Tree',model1_acc,model1_acc-50],\n",
    "        ['Model 2','Selected Features',model2_acc,model2_acc-model1_acc],\n",
    "        ['Model 3','All Features',model3_acc,model3_acc-model2_acc],\n",
    "        ['Model 4','Random Forest',model4_acc,model4_acc-model3_acc]\n",
    "        \n",
    "    ],\n",
    "    columns=['Model','Description','Accuracy%','Improvement'])\n",
    "\n",
    "AccVsF1.head()"
   ]
  },
  {
   "cell_type": "markdown",
   "id": "01815ffc-9404-4d83-8c19-d38d6d0f6589",
   "metadata": {
    "tags": []
   },
   "source": [
    "### Confusion Matrix"
   ]
  },
  {
   "cell_type": "code",
   "execution_count": null,
   "id": "630779b7-2511-40fd-b680-5947a3b53577",
   "metadata": {},
   "outputs": [],
   "source": [
    "print('Model 2 Accuracy=',model2_acc,'%')\n",
    "\n",
    "cm1 = confusion_matrix(val_y, val_predictions2)\n",
    "group_names = ['Goon correctly identified',\n",
    "               'Goon identified as cuvee',\n",
    "               'Cuvee identified as goon',\n",
    "               'Cuvee correctly identified']\n",
    "\n",
    "group_counts = [\"{0:0.0f}\".format(value) for value in\n",
    "                cm1.flatten()]\n",
    "group_percentages = [\"{0:.2%}\".format(value) for value in\n",
    "                     cm1.flatten()/np.sum(cm1)]\n",
    "labels = [f\"{v1}\\n{v2}\\n{v3}\" for v1, v2, v3 in\n",
    "          zip(group_names,group_counts,group_percentages)]\n",
    "labels = np.asarray(labels).reshape(2,2)\n",
    "\n",
    "\n",
    "sns.heatmap(cm1, annot=labels, fmt='', cmap='Blues')"
   ]
  },
  {
   "cell_type": "code",
   "execution_count": null,
   "id": "dad97058-3ac1-4ef0-9ac7-420cd90f7135",
   "metadata": {},
   "outputs": [],
   "source": []
  }
 ],
 "metadata": {
  "kernelspec": {
   "display_name": "Python 3 (ipykernel)",
   "language": "python",
   "name": "python3"
  },
  "language_info": {
   "codemirror_mode": {
    "name": "ipython",
    "version": 3
   },
   "file_extension": ".py",
   "mimetype": "text/x-python",
   "name": "python",
   "nbconvert_exporter": "python",
   "pygments_lexer": "ipython3",
   "version": "3.10.9"
  }
 },
 "nbformat": 4,
 "nbformat_minor": 5
}
